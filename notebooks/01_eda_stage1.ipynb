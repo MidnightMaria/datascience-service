{
 "cells": [
  {
   "cell_type": "code",
   "execution_count": null,
   "id": "b35ea74c",
   "metadata": {
    "vscode": {
     "languageId": "plaintext"
    }
   },
   "outputs": [],
   "source": [
    "# Fokus: Visualisasi total sales over time dan identifikasi pola dasar\n",
    "\n",
    "# =========================================\n",
    "# Import Library\n",
    "# =========================================\n",
    "import pandas as pd\n",
    "import matplotlib.pyplot as plt\n",
    "import seaborn as sns\n",
    "\n",
    "# =========================================\n",
    "# Load Dataset\n",
    "# =========================================\n",
    "train = pd.read_csv('/home/agnes/rossman/train.csv')\n",
    "store = pd.read_csv('/home/agnes/rossman/store.csv')\n",
    "\n",
    "print(\"Train shape:\", train.shape)\n",
    "print(\"Store shape:\", store.shape)\n",
    "\n",
    "# =========================================\n",
    "# Merge Store Info ke Train Data\n",
    "# =========================================\n",
    "df = pd.merge(train, store, on='Store', how='left')\n",
    "df['Date'] = pd.to_datetime(df['Date'])\n",
    "print(df.columns)\n",
    "\n",
    "# =========================================\n",
    "# Visualisasi Total Sales per Hari\n",
    "# =========================================\n",
    "daily_sales = df.groupby('Date')['Sales'].sum()\n",
    "\n",
    "plt.figure(figsize=(12,5))\n",
    "plt.plot(daily_sales.index, daily_sales.values)\n",
    "plt.title(\"Total Sales Over Time (All Stores)\")\n",
    "plt.xlabel(\"Date\")\n",
    "plt.ylabel(\"Sales\")\n",
    "plt.tight_layout()\n",
    "plt.show()\n",
    "\n",
    "# =========================================\n",
    "# Catatan Awal / Insight\n",
    "# =========================================\n",
    "\"\"\"\n",
    "EDA Tahap 1 - Insight:\n",
    "1. Pola mingguan yang kuat → penjualan naik turun secara periodik.\n",
    "2. Banyak nilai nol → toko tutup (Store closed / StateHoliday).\n",
    "3. Ada lonjakan (spikes) → kemungkinan besar karena promo & musim liburan.\n",
    "4. Data ini siap untuk analisis lanjutan: pengaruh hari, promo, dan holiday.\n",
    "\"\"\"\n"
   ]
  }
 ],
 "metadata": {
  "language_info": {
   "name": "python"
  }
 },
 "nbformat": 4,
 "nbformat_minor": 5
}
